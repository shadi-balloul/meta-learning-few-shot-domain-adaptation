{
 "cells": [
  {
   "cell_type": "code",
   "execution_count": null,
   "metadata": {},
   "outputs": [
    {
     "name": "stdout",
     "output_type": "stream",
     "text": [
      "Created small test dataset: ../data/small-data/music.task.test\n",
      "Created small test dataset: ../data/small-data/health_personal_care.task.test\n",
      "Created small test dataset: ../data/small-data/apparel.task.test\n",
      "Created small test dataset: ../data/small-data/imdb.task.test\n",
      "Created small test dataset: ../data/small-data/camera_photo.task.test\n",
      "Created small training dataset: ../data/small-data/toys_games.task.train\n",
      "Created small test dataset: ../data/small-data/video.task.test\n",
      "Created small training dataset: ../data/small-data/kitchen_housewares.task.train\n",
      "Created small test dataset: ../data/small-data/books.task.test\n",
      "Created small training dataset: ../data/small-data/baby.task.train\n",
      "Created small test dataset: ../data/small-data/electronics.task.test\n",
      "Created small training dataset: ../data/small-data/magazines.task.train\n",
      "Created small training dataset: ../data/small-data/video.task.train\n",
      "Created small test dataset: ../data/small-data/dvd.task.test\n",
      "Created small test dataset: ../data/small-data/baby.task.test\n",
      "Created small test dataset: ../data/small-data/software.task.test\n",
      "Created small training dataset: ../data/small-data/music.task.train\n",
      "An error occurred processing MR.task.test: 'utf-8' codec can't decode byte 0x96 in position 1826: invalid start byte\n",
      "Created small training dataset: ../data/small-data/apparel.task.train\n",
      "Created small training dataset: ../data/small-data/health_personal_care.task.train\n",
      "Created small training dataset: ../data/small-data/imdb.task.train\n",
      "Created small test dataset: ../data/small-data/sports_outdoors.task.test\n",
      "Created small test dataset: ../data/small-data/kitchen_housewares.task.test\n",
      "Created small test dataset: ../data/small-data/magazines.task.test\n",
      "Created small training dataset: ../data/small-data/electronics.task.train\n",
      "Created small test dataset: ../data/small-data/toys_games.task.test\n",
      "Created small training dataset: ../data/small-data/books.task.train\n",
      "Created small training dataset: ../data/small-data/sports_outdoors.task.train\n",
      "Created small training dataset: ../data/small-data/camera_photo.task.train\n",
      "An error occurred processing dvd.task.train: 'utf-8' codec can't decode bytes in position 102052-102053: invalid continuation byte\n",
      "Created small training dataset: ../data/small-data/software.task.train\n",
      "An error occurred processing MR.task.train: 'utf-8' codec can't decode byte 0xe9 in position 3885: invalid continuation byte\n"
     ]
    }
   ],
   "source": [
    "import os\n",
    "import pandas as pd\n",
    "\n",
    "data_dir = \"../data/mtl-dataset\"  # Directory containing the original datasets\n",
    "small_data_dir = \"../data/small-data\"  # Directory for smaller datasets\n",
    "\n",
    "train_suffix = \".task.train\"\n",
    "test_suffix = \".task.test\"\n",
    "\n",
    "train_sample_size = 100\n",
    "test_sample_size = 20\n",
    "\n",
    "# Create the small data directory if it doesn't exist\n",
    "os.makedirs(small_data_dir, exist_ok=True)\n",
    "\n",
    "\n",
    "for filename in os.listdir(data_dir):\n",
    "    filepath = os.path.join(data_dir, filename)\n",
    "    if not os.path.isfile(filepath):  # Skip if not a file (e.g., subdirectory)\n",
    "        continue\n",
    "\n",
    "    if filename.endswith(train_suffix):\n",
    "        try:\n",
    "            df = pd.read_csv(filepath, sep='\\t', header=None, encoding='utf-8')  # Read TSV, no header\n",
    "            small_df = df.sample(n=train_sample_size, random_state=42)  # Randomly sample 100 rows\n",
    "            small_filepath = os.path.join(small_data_dir, filename)\n",
    "            small_df.to_csv(small_filepath, sep='\\t', header=False, index=False)  # Save as TSV, no header/index\n",
    "            print(f\"Created small training dataset: {small_filepath}\")\n",
    "        except pd.errors.EmptyDataError: #handle empty files\n",
    "            print(f\"Skipping empty file: {filepath}\")\n",
    "        except Exception as e:\n",
    "             print(f\"An error occurred processing {filename}: {e}\")\n",
    "\n",
    "    elif filename.endswith(test_suffix):\n",
    "         try:\n",
    "            df = pd.read_csv(filepath, sep='\\t', header=None)\n",
    "            small_df = df.sample(n=test_sample_size, random_state=42)\n",
    "            small_filepath = os.path.join(small_data_dir, filename)\n",
    "            small_df.to_csv(small_filepath, sep='\\t', header=False, index=False)\n",
    "            print(f\"Created small test dataset: {small_filepath}\")\n",
    "         except pd.errors.EmptyDataError:\n",
    "            print(f\"Skipping empty file: {filepath}\")\n",
    "         except Exception as e:\n",
    "             print(f\"An error occurred processing {filename}: {e}\")"
   ]
  }
 ],
 "metadata": {
  "kernelspec": {
   "display_name": "venv10_8",
   "language": "python",
   "name": "python3"
  },
  "language_info": {
   "codemirror_mode": {
    "name": "ipython",
    "version": 3
   },
   "file_extension": ".py",
   "mimetype": "text/x-python",
   "name": "python",
   "nbconvert_exporter": "python",
   "pygments_lexer": "ipython3",
   "version": "3.10.8"
  }
 },
 "nbformat": 4,
 "nbformat_minor": 2
}
